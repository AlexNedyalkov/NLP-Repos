{
 "cells": [
  {
   "cell_type": "markdown",
   "metadata": {},
   "source": [
    "# Stop Words\n",
    "Words like \"a\" and \"the\" appear so frequently that they don't require tagging as thoroughly as nouns, verbs and modifiers. We call these *stop words*, and they can be filtered from the text to be processed. spaCy holds a built-in list of some 305 English stop words."
   ]
  },
  {
   "cell_type": "code",
   "execution_count": 1,
   "metadata": {},
   "outputs": [],
   "source": [
    "# Perform standard imports:\n",
    "import spacy\n",
    "nlp = spacy.load('en_core_web_sm')"
   ]
  },
  {
   "cell_type": "code",
   "execution_count": 2,
   "metadata": {},
   "outputs": [
    {
     "name": "stdout",
     "output_type": "stream",
     "text": [
      "{'nothing', 'than', 'except', 'always', 'seeming', 'either', 'among', 'various', 'she', 'hereafter', '‘m', 'many', 'moreover', 'thereafter', 'only', 'per', '’s', 'around', 'doing', 'part', '‘s', 'across', 'was', 'therein', 'my', 'neither', 'five', 'am', 'yourself', 'top', 'should', 'sixty', 'whether', 'thereupon', 'amongst', 'wherever', 'or', 'used', 'every', 'we', 'serious', 'below', 'mine', 'three', 'towards', 'ours', 'whenever', 'both', 'six', 'will', 'could', 'nor', 'all', 'make', 'everyone', 'thereby', 'against', 'anywhere', 'before', 'indeed', 'first', 'eleven', 'otherwise', 'a', 'and', 'because', 'enough', 'that', 'these', 'by', 'already', 'did', 'into', 'the', 'whence', 'i', 'made', 'give', 'own', 'have', 'with', 'when', 'must', 'beside', 'toward', 'above', 'been', 'its', 'an', 'anyone', 'such', 'under', 'thus', 'less', '’ve', '’m', 'what', 'to', 'anything', 'then', 'throughout', 'noone', 'within', 'their', 'name', 'perhaps', 'anyway', 'twelve', 'being', \"n't\", 'why', 'using', 'another', 'during', 'last', 'hereby', 'empty', '’ll', 'say', 'seems', 'your', 'alone', 'show', 'mostly', 'latter', 'beforehand', 'thru', 'whereas', 'does', '‘re', \"'re\", 'hundred', 'once', 'cannot', 're', 'twenty', 'due', 'of', 'former', 'via', '’d', 'almost', 'whither', 'whatever', 'may', 'beyond', 'up', 'everything', 'you', 'seemed', 'themselves', 'become', \"'d\", \"'s\", 'fifty', 'put', 'whom', 'although', 'upon', 'done', 'down', 'meanwhile', 'he', 'often', 'from', 'since', 'nowhere', 'more', 'keep', 'get', 'yours', 'ten', 'move', 'though', 'they', 'onto', 'several', 'others', 'some', 'herein', 'her', 'see', 'while', 'take', 'third', 'each', 'out', 'ourselves', 'can', 'whole', 'sometimes', 'ever', 'well', 'there', 'whereafter', 'on', 'along', 'rather', 'bottom', 'off', 'thence', 'in', 'please', 'at', 'else', 'never', 'however', 'someone', 'therefore', 'other', 'might', 'same', 'call', 'this', '‘ve', 'front', 'it', \"'ll\", 'herself', 'whose', 'hers', 'eight', 'me', 'afterwards', 'next', 'himself', 'yourselves', 'do', 'becomes', 'even', 'something', '‘d', 'two', 'after', 'nevertheless', \"'m\", 'whereupon', 'whereby', 'forty', 'hereupon', 'would', 'had', 'if', 'none', 'no', 'further', 'nobody', '‘ll', 'namely', 'whoever', 'together', 'any', 'became', 'elsewhere', 'anyhow', 'not', 'side', 'again', 'latterly', 'too', 'just', 'fifteen', 'itself', 'behind', 'sometime', 'for', 'myself', 'still', 'besides', 'here', 'are', 'also', 'were', 'where', 'which', 'go', 'now', 'regarding', 'those', 'without', 'who', 'our', 'but', 'full', 'has', 'unless', '’re', 'least', 'them', 'much', 'becoming', 'his', 'about', 'quite', 'ca', 'one', 'n’t', \"'ve\", 'yet', 'very', 'back', 'four', 'seem', 'nine', 'everywhere', 'as', 'really', 'somewhere', 'over', 'n‘t', 'how', 'amount', 'through', 'so', 'between', 'most', 'hence', 'somehow', 'few', 'be', 'us', 'wherein', 'him', 'is', 'until', 'formerly'}\n"
     ]
    }
   ],
   "source": [
    "# Print the set of spaCy's default stop words (remember that sets are unordered):\n",
    "print(nlp.Defaults.stop_words)"
   ]
  },
  {
   "cell_type": "code",
   "execution_count": 3,
   "metadata": {},
   "outputs": [
    {
     "data": {
      "text/plain": [
       "True"
      ]
     },
     "execution_count": 3,
     "metadata": {},
     "output_type": "execute_result"
    }
   ],
   "source": [
    "nlp.vocab['myself'].is_stop"
   ]
  },
  {
   "cell_type": "code",
   "execution_count": 6,
   "metadata": {},
   "outputs": [
    {
     "data": {
      "text/plain": [
       "False"
      ]
     },
     "execution_count": 6,
     "metadata": {},
     "output_type": "execute_result"
    }
   ],
   "source": [
    "nlp.vocab['House'].is_stop"
   ]
  },
  {
   "cell_type": "code",
   "execution_count": 7,
   "metadata": {},
   "outputs": [],
   "source": [
    "# Add the word to the set of stop words. Use lowercase!\n",
    "nlp.Defaults.stop_words.add('btw')\n",
    "\n",
    "# Set the stop_word tag on the lexeme\n",
    "nlp.vocab['btw'].is_stop = True"
   ]
  },
  {
   "cell_type": "code",
   "execution_count": 9,
   "metadata": {},
   "outputs": [
    {
     "data": {
      "text/plain": [
       "True"
      ]
     },
     "execution_count": 9,
     "metadata": {},
     "output_type": "execute_result"
    }
   ],
   "source": [
    "nlp.vocab['btw'].is_stop"
   ]
  }
 ],
 "metadata": {
  "kernelspec": {
   "display_name": "Python 3",
   "language": "python",
   "name": "python3"
  },
  "language_info": {
   "codemirror_mode": {
    "name": "ipython",
    "version": 3
   },
   "file_extension": ".py",
   "mimetype": "text/x-python",
   "name": "python",
   "nbconvert_exporter": "python",
   "pygments_lexer": "ipython3",
   "version": "3.7.3"
  }
 },
 "nbformat": 4,
 "nbformat_minor": 2
}
